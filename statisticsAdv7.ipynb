{
 "cells": [
  {
   "cell_type": "markdown",
   "id": "34f3ae1e-488a-4407-be6b-68aa5eedfddb",
   "metadata": {},
   "source": [
    "Q1. Write a Python function that takes in two arrays of data and calculates the F-value for a variance ratio\n",
    "test. The function should return the F-value and the corresponding p-value for the test."
   ]
  },
  {
   "cell_type": "code",
   "execution_count": 3,
   "id": "0aecc910-25f1-4834-815b-98ad4f4de41f",
   "metadata": {},
   "outputs": [
    {
     "name": "stdout",
     "output_type": "stream",
     "text": [
      "F-value: 1.081081081081081\n",
      "p-value: 0.4707940061288014\n"
     ]
    }
   ],
   "source": [
    "import numpy as np\n",
    "from scipy import stats\n",
    "\n",
    "def variance_ratio_test(data1, data2):\n",
    "\n",
    "    var1 = np.var(data1, ddof=1)\n",
    "    var2 = np.var(data2, ddof=1)\n",
    "    \n",
    "    F = var1 / var2\n",
    "\n",
    "    df1 = len(data1) - 1\n",
    "    df2 = len(data2) - 1\n",
    "\n",
    "    p_value = stats.f.sf(F, df1, df2)\n",
    "\n",
    "    return F, p_value\n",
    "data1 = [3, 2, 3, 7, 5]\n",
    "data2 = [5, 7, 8, 6, 10]\n",
    "\n",
    "F, p_value = variance_ratio_test(data1, data2)\n",
    "\n",
    "print(\"F-value:\", F)\n",
    "print(\"p-value:\", p_value)"
   ]
  },
  {
   "cell_type": "markdown",
   "id": "c3533b3d-cf5f-4611-94c4-e23550634ee7",
   "metadata": {},
   "source": [
    "Q2. Given a significance level of 0.05 and the degrees of freedom for the numerator and denominator of an\n",
    "F-distribution, write a Python function that returns the critical F-value for a two-tailed test."
   ]
  },
  {
   "cell_type": "code",
   "execution_count": 4,
   "id": "8b57fcd8-1729-44ca-933c-712ebabc599a",
   "metadata": {},
   "outputs": [
    {
     "name": "stdout",
     "output_type": "stream",
     "text": [
      "Critical F-value: 3.8586986662732143\n"
     ]
    }
   ],
   "source": [
    "from scipy import stats\n",
    "\n",
    "def critical_f_value(alpha, dfn, dfd):\n",
    "    \n",
    "    f_critical = stats.f.ppf(1 - alpha / 2, dfn, dfd)\n",
    "\n",
    "    return f_critical\n",
    "alpha = 0.05\n",
    "dfn = 3\n",
    "dfd = 20\n",
    "\n",
    "f_critical = critical_f_value(alpha, dfn, dfd)\n",
    "\n",
    "print(\"Critical F-value:\", f_critical)"
   ]
  },
  {
   "cell_type": "markdown",
   "id": "e17e26a1-810b-4919-8214-a692a469b086",
   "metadata": {},
   "source": [
    "Q3. Write a Python program that generates random samples from two normal distributions with known\n",
    "\n",
    "variances and uses an F-test to determine if the variances are equal. The program should output the F-\n",
    "value, degrees of freedom, and p-value for the test."
   ]
  },
  {
   "cell_type": "code",
   "execution_count": 5,
   "id": "7757d495-738c-4d2d-ac8d-98e42809586f",
   "metadata": {},
   "outputs": [
    {
     "name": "stdout",
     "output_type": "stream",
     "text": [
      "F-value: 0.9020131110182574\n",
      "Degrees of freedom: (99, 99)\n",
      "p-value: 0.6955483458935183\n"
     ]
    }
   ],
   "source": [
    "import numpy as np\n",
    "from scipy import stats\n",
    "\n",
    "def f_test_equal_variances(sample1, sample2):\n",
    "    \n",
    "    var1 = np.var(sample1, ddof=1)\n",
    "    var2 = np.var(sample2, ddof=1)\n",
    "\n",
    "    F = var1 / var2\n",
    "\n",
    "    df1 = len(sample1) - 1\n",
    "    df2 = len(sample2) - 1\n",
    "\n",
    "    p_value = stats.f.sf(F, df1, df2)\n",
    "\n",
    "    return F, (df1, df2), p_value\n",
    "\n",
    "np.random.seed(1)\n",
    "sample1 = np.random.normal(loc=0, scale=1, size=100)\n",
    "sample2 = np.random.normal(loc=0, scale=1, size=100)\n",
    "\n",
    "F, degrees_of_freedom, p_value = f_test_equal_variances(sample1, sample2)\n",
    "\n",
    "print(\"F-value:\", F)\n",
    "print(\"Degrees of freedom:\", degrees_of_freedom)\n",
    "print(\"p-value:\", p_value)"
   ]
  },
  {
   "cell_type": "markdown",
   "id": "8bb477cf-c650-486f-be2d-46903b536b5a",
   "metadata": {},
   "source": [
    "Q4.The variances of two populations are known to be 10 and 15. A sample of 12 observations is taken from\n",
    "each population. Conduct an F-test at the 5% significance level to determine if the variances are\n",
    "significantly different."
   ]
  },
  {
   "cell_type": "code",
   "execution_count": null,
   "id": "2d5ad476-e255-4107-a3b2-3671cccd3595",
   "metadata": {},
   "outputs": [],
   "source": [
    "Ans:-\n",
    "     i.Define the null and alternative hypotheses\n",
    "       ii.Set the significance level (alpha) to 0.05.\n",
    "           iii.Calculate the F-value:\n",
    "                 = Variance1 / Variance2\n",
    "                    iv.Determine the degrees of freedom:\n",
    "                        df1 = Sample size 1 - 1\n",
    "                        df2 = Sample size 2 - 1\n",
    "                        v.calculate p-value using F- distribution"
   ]
  },
  {
   "cell_type": "markdown",
   "id": "302fca13-c343-41ac-8f78-c53963684548",
   "metadata": {},
   "source": [
    "Q5. A manufacturer claims that the variance of the diameter of a certain product is 0.005. A sample of 25\n",
    "products is taken, and the sample variance is found to be 0.006. Conduct an F-test at the 1% significance\n",
    "level to determine if the claim is justified."
   ]
  },
  {
   "cell_type": "code",
   "execution_count": null,
   "id": "2fef34af-d276-42ca-8296-f6ef3af03e95",
   "metadata": {},
   "outputs": [],
   "source": [
    "Ans:-\n",
    " i.Define the null and alternative hypotheses\n",
    "       ii.Set the significance level (alpha) to 0.05.\n",
    "           iii.Calculate the F-value:\n",
    "                 = Variance1 / Variance2\n",
    "                    iv.Determine the degrees of freedom:\n",
    "                        df1 = Sample size 1 - 1\n",
    "                        df2 = Sample size 2 - 1\n",
    "                        v.calculate p-value using F- distribution"
   ]
  },
  {
   "cell_type": "markdown",
   "id": "089ee9d7-fcc0-4729-957a-2734a70b24f2",
   "metadata": {},
   "source": [
    "Q6. Write a Python function that takes in the degrees of freedom for the numerator and denominator of an\n",
    "F-distribution and calculates the mean and variance of the distribution. The function should return the\n",
    "mean and variance as a tuple."
   ]
  },
  {
   "cell_type": "code",
   "execution_count": 6,
   "id": "3b682d26-6223-4c82-bc1b-f85113a4e5f5",
   "metadata": {},
   "outputs": [
    {
     "name": "stdout",
     "output_type": "stream",
     "text": [
      "Mean of F-distribution: 1.25\n",
      "Variance of F-distribution: 1.3541666666666667\n"
     ]
    }
   ],
   "source": [
    "def calculate_f_distribution_parameters(df1, df2):\n",
    "    \"\"\"\n",
    "    Calculate the mean and variance of an F-distribution given the degrees of freedom for the numerator (df1) and denominator (df2).\n",
    "    \n",
    "    Parameters:\n",
    "    - df1 (int): Degrees of freedom for the numerator.\n",
    "    - df2 (int): Degrees of freedom for the denominator.\n",
    "    \n",
    "    Returns:\n",
    "    - mean (float): Mean of the F-distribution.\n",
    "    - variance (float): Variance of the F-distribution.\n",
    "    \"\"\"\n",
    "    mean = df2 / (df2 - 2) if df2 > 2 else None\n",
    "    variance = (2 * (df2**2) * (df1 + df2 - 2)) / (df1 * (df2 - 2)**2 * (df2 - 4)) if df2 > 4 else None\n",
    "    \n",
    "    return mean, variance\n",
    "df1 = 5\n",
    "df2 = 10\n",
    "\n",
    "mean, variance = calculate_f_distribution_parameters(df1, df2)\n",
    "print(\"Mean of F-distribution:\", mean)\n",
    "print(\"Variance of F-distribution:\", variance)\n"
   ]
  },
  {
   "cell_type": "markdown",
   "id": "ab15c580-47c2-46c5-b02f-75ea37e605e1",
   "metadata": {},
   "source": [
    "Q7. A random sample of 10 measurements is taken from a normal population with unknown variance. The\n",
    "sample variance is found to be 25. Another random sample of 15 measurements is taken from another\n",
    "normal population with unknown variance, and the sample variance is found to be 20. Conduct an F-test\n",
    "at the 10% significance level to determine if the variances are significantly different."
   ]
  },
  {
   "cell_type": "code",
   "execution_count": 7,
   "id": "087bec43-a7dd-4305-8e37-7a06229d65e8",
   "metadata": {},
   "outputs": [
    {
     "name": "stdout",
     "output_type": "stream",
     "text": [
      "Fail to reject the null hypothesis. The variances are not significantly different.\n",
      "F-statistic: 1.25\n",
      "p-value: 0.6583902808707023\n"
     ]
    }
   ],
   "source": [
    "import scipy.stats as stats\n",
    "\n",
    "variance1 = 25\n",
    "variance2 = 20\n",
    "\n",
    "n1 = 10\n",
    "n2 = 15\n",
    "df1 = n1 - 1\n",
    "df2 = n2 - 1\n",
    "\n",
    "F = variance1 / variance2\n",
    "\n",
    "p_value = stats.f.cdf(F, df1, df2)\n",
    "\n",
    "alpha = 0.1\n",
    "\n",
    "if p_value < alpha:\n",
    "    print(\"Reject the null hypothesis. The variances are significantly different.\")\n",
    "else:\n",
    "    print(\"Fail to reject the null hypothesis. The variances are not significantly different.\")\n",
    "\n",
    "print(\"F-statistic:\", F)\n",
    "print(\"p-value:\", p_value)"
   ]
  },
  {
   "cell_type": "markdown",
   "id": "06e1fcab-2a39-4449-bba0-7c9f0e1cba96",
   "metadata": {},
   "source": [
    "Q8. The following data represent the waiting times in minutes at two different restaurants on a Saturday\n",
    "night: Restaurant A: 24, 25, 28, 23, 22, 20, 27; Restaurant B: 31, 33, 35, 30, 32, 36. Conduct an F-test at the 5%\n",
    "significance level to determine if the variances are significantly different."
   ]
  },
  {
   "cell_type": "code",
   "execution_count": 8,
   "id": "10f21590-b530-41a5-bce5-ca9408734338",
   "metadata": {},
   "outputs": [
    {
     "name": "stdout",
     "output_type": "stream",
     "text": [
      "Fail to reject the null hypothesis. The variances are not significantly different.\n",
      "F-statistic: 1.4551907719609583\n",
      "p-value: 0.6512592126031258\n"
     ]
    }
   ],
   "source": [
    "import numpy as np\n",
    "import scipy.stats as stats\n",
    "\n",
    "restaurant_A = np.array([24, 25, 28, 23, 22, 20, 27])\n",
    "restaurant_B = np.array([31, 33, 35, 30, 32, 36])\n",
    "\n",
    "variance_A = np.var(restaurant_A, ddof=1)\n",
    "variance_B = np.var(restaurant_B, ddof=1)\n",
    "\n",
    "\n",
    "n_A = len(restaurant_A)\n",
    "n_B = len(restaurant_B)\n",
    "df_A = n_A - 1\n",
    "df_B = n_B - 1\n",
    "\n",
    "F = variance_A / variance_B\n",
    "\n",
    "p_value = stats.f.cdf(F, df_A, df_B)\n",
    "\n",
    "alpha = 0.05\n",
    "\n",
    "if p_value < alpha:\n",
    "    print(\"Reject the null hypothesis. The variances are significantly different.\")\n",
    "else:\n",
    "    print(\"Fail to reject the null hypothesis. The variances are not significantly different.\")\n",
    "\n",
    "print(\"F-statistic:\", F)\n",
    "print(\"p-value:\", p_value)"
   ]
  },
  {
   "cell_type": "markdown",
   "id": "703fb26a-529d-48b8-9a1a-d95d7b3a0f8c",
   "metadata": {},
   "source": [
    "Q9. The following data represent the test scores of two groups of students: Group A: 80, 85, 90, 92, 87, 83;\n",
    "Group B: 75, 78, 82, 79, 81, 84. Conduct an F-test at the 1% significance level to determine if the variances\n",
    "are significantly different."
   ]
  },
  {
   "cell_type": "code",
   "execution_count": 9,
   "id": "f99cd85e-c3d8-4ca1-aa8e-21b4d484802e",
   "metadata": {},
   "outputs": [
    {
     "name": "stdout",
     "output_type": "stream",
     "text": [
      "Fail to reject the null hypothesis. The variances are not significantly different.\n",
      "F-statistic: 1.9442622950819677\n",
      "p-value: 0.7584478225464656\n"
     ]
    }
   ],
   "source": [
    "import numpy as np\n",
    "import scipy.stats as stats\n",
    "\n",
    "group_A = np.array([80, 85, 90, 92, 87, 83])\n",
    "group_B = np.array([75, 78, 82, 79, 81, 84])\n",
    "\n",
    "variance_A = np.var(group_A, ddof=1)\n",
    "variance_B = np.var(group_B, ddof=1)\n",
    "\n",
    "n_A = len(group_A)\n",
    "n_B = len(group_B)\n",
    "df_A = n_A - 1\n",
    "df_B = n_B - 1\n",
    "\n",
    "F = variance_A / variance_B\n",
    "\n",
    "p_value = stats.f.cdf(F, df_A, df_B)\n",
    "\n",
    "alpha = 0.01\n",
    "\n",
    "if p_value < alpha:\n",
    "    print(\"Reject the null hypothesis. The variances are significantly different.\")\n",
    "else:\n",
    "    print(\"Fail to reject the null hypothesis. The variances are not significantly different.\")\n",
    "\n",
    "print(\"F-statistic:\", F)\n",
    "print(\"p-value:\", p_value)"
   ]
  },
  {
   "cell_type": "code",
   "execution_count": null,
   "id": "15bef383-d3d8-48f2-a739-3f0277ad02a2",
   "metadata": {},
   "outputs": [],
   "source": []
  }
 ],
 "metadata": {
  "kernelspec": {
   "display_name": "Python 3 (ipykernel)",
   "language": "python",
   "name": "python3"
  },
  "language_info": {
   "codemirror_mode": {
    "name": "ipython",
    "version": 3
   },
   "file_extension": ".py",
   "mimetype": "text/x-python",
   "name": "python",
   "nbconvert_exporter": "python",
   "pygments_lexer": "ipython3",
   "version": "3.10.8"
  }
 },
 "nbformat": 4,
 "nbformat_minor": 5
}
